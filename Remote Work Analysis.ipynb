{
 "cells": [
  {
   "cell_type": "markdown",
   "id": "e96cec15",
   "metadata": {},
   "source": [
    "# Remote Job Market Analysis: RemoteOK Data Pipeline & Insights by Precious Adekwu"
   ]
  },
  {
   "cell_type": "markdown",
   "id": "2e4d42a3",
   "metadata": {},
   "source": [
    "**Programming & Tools**\n",
    "\n",
    "- Python: Advanced data manipulation with pandas\n",
    "- Web Scraping: BeautifulSoup and requests for data extraction\n",
    "- Database Management: SQLite for data storage and querying\n",
    "- Data Visualization: Matplotlib and Seaborn for insights presentation"
   ]
  },
  {
   "cell_type": "code",
   "execution_count": 55,
   "id": "5b776ea8",
   "metadata": {},
   "outputs": [],
   "source": [
    "import requests\n",
    "from bs4 import BeautifulSoup\n",
    "import pandas as pd\n",
    "import sqlite3\n",
    "import matplotlib.pyplot as plt\n",
    "import seaborn as sns"
   ]
  },
  {
   "cell_type": "markdown",
   "id": "786fb8ed",
   "metadata": {},
   "source": [
    "**1. Data Collection & Web Scraping**\n",
    "\n",
    "Technology Stack: Python with requests and BeautifulSoup\n",
    "Data Source: RemoteOK.com\n",
    "Categories Analyzed: Development, Design, Data Science, Marketing, and Sales roles\n",
    "Approach: Implemented a robust scraping function with proper headers and error handling"
   ]
  },
  {
   "cell_type": "code",
   "execution_count": 13,
   "id": "99c8c119",
   "metadata": {},
   "outputs": [],
   "source": [
    "categories = [\n",
    "    \"remote-dev-jobs\",\n",
    "    \"remote-design-jobs\",\n",
    "    \"remote-data-jobs\",\n",
    "    \"remote-marketing-jobs\",\n",
    "    \"remote-sales-jobs\"\n",
    "]"
   ]
  },
  {
   "cell_type": "code",
   "execution_count": 25,
   "id": "23de30d8",
   "metadata": {},
   "outputs": [],
   "source": [
    "def scrape_remoteok_category(category):\n",
    "    url = \"https://remoteok.com/remote-dev-jobs\"\n",
    "    headers = {\"User-Agent\": \"Mozilla/5.0\"}\n",
    "    \n",
    "    response = requests.get(url, headers=headers)\n",
    "    if response.status_code != 200:\n",
    "        print(f\"Failed to retrieve {category}: {response.status_code}\")\n",
    "        return pd.DataFrame()\n",
    "    \n",
    "    soup = BeautifulSoup(response.text, 'html.parser')\n",
    "    jobs = []\n",
    "    \n",
    "    for job in soup.find_all('tr', class_='job'):\n",
    "        title_elem = job.find('h2', itemprop='title')\n",
    "        company_elem = job.find('h3', itemprop='name')\n",
    "        tags = [tag.get_text(strip=True) for tag in job.find_all('span', class_='tag')]\n",
    "        date_elem = job.find('time')\n",
    "        \n",
    "        date_posted = date_elem['datetime'] if date_elem and 'datetime' in date_elem.attrs else None\n",
    "        \n",
    "        jobs.append({\n",
    "            'title': title_elem.get_text(strip=True) if title_elem else None,\n",
    "            'company': company_elem.get_text(strip=True) if company_elem else None,\n",
    "            'tags': ', '.join(tags),\n",
    "            'date_posted': date_posted,\n",
    "            'category': category.replace('remote-', '').replace('-jobs', '')\n",
    "        })\n",
    "        \n",
    "    return pd.DataFrame(jobs)"
   ]
  },
  {
   "cell_type": "code",
   "execution_count": 26,
   "id": "5429c337",
   "metadata": {},
   "outputs": [
    {
     "name": "stdout",
     "output_type": "stream",
     "text": [
      "Scraping category: remote-dev-jobs\n",
      "Scraping category: remote-design-jobs\n",
      "Scraping category: remote-data-jobs\n",
      "Scraping category: remote-marketing-jobs\n",
      "Scraping category: remote-sales-jobs\n",
      "Total jobs scraped before filtering: 100\n"
     ]
    }
   ],
   "source": [
    "all_jobs = pd.DataFrame()\n",
    "\n",
    "for cat in categories:\n",
    "    print(f\"Scraping category: {cat}\")\n",
    "    df_cat = scrape_remoteok_category(cat)\n",
    "    all_jobs = pd.concat([all_jobs, df_cat], ignore_index=True)\n",
    "    \n",
    "print(f\"Total jobs scraped before filtering: {len(all_jobs)}\")"
   ]
  },
  {
   "cell_type": "markdown",
   "id": "02b795df",
   "metadata": {},
   "source": [
    "**2. Data Processing & Cleaning**\n",
    "\n",
    "Raw Data Volume: 100 job postings collected\n",
    "Date Filtering: Applied temporal filters for 2024-2025 data\n",
    "Data Quality: Implemented duplicate removal and null value handling\n",
    "Feature Engineering: Created categorical variables and date-based features\n",
    "\n",
    "Data Quality Metrics:\n",
    "\n",
    "Zero null values after cleaning\n",
    "Equal distribution across categories (20 jobs each)\n",
    "Consistent date formatting and timezone handling"
   ]
  },
  {
   "cell_type": "code",
   "execution_count": 27,
   "id": "bd4370f6",
   "metadata": {},
   "outputs": [
    {
     "name": "stdout",
     "output_type": "stream",
     "text": [
      "Jobs after filtering for 2024 and 2025: 100\n"
     ]
    }
   ],
   "source": [
    "all_jobs['date_posted'] = pd.to_datetime(all_jobs['date_posted'], errors='coerce')\n",
    "\n",
    "all_jobs = all_jobs[all_jobs['date_posted'].dt.year.isin([2024, 2025])].reset_index(drop=True)\n",
    "\n",
    "print(f\"Jobs after filtering for 2024 and 2025: {len(all_jobs)}\")\n"
   ]
  },
  {
   "cell_type": "code",
   "execution_count": 28,
   "id": "2496fba2",
   "metadata": {},
   "outputs": [
    {
     "data": {
      "text/html": [
       "<div>\n",
       "<style scoped>\n",
       "    .dataframe tbody tr th:only-of-type {\n",
       "        vertical-align: middle;\n",
       "    }\n",
       "\n",
       "    .dataframe tbody tr th {\n",
       "        vertical-align: top;\n",
       "    }\n",
       "\n",
       "    .dataframe thead th {\n",
       "        text-align: right;\n",
       "    }\n",
       "</style>\n",
       "<table border=\"1\" class=\"dataframe\">\n",
       "  <thead>\n",
       "    <tr style=\"text-align: right;\">\n",
       "      <th></th>\n",
       "      <th>title</th>\n",
       "      <th>company</th>\n",
       "      <th>tags</th>\n",
       "      <th>date_posted</th>\n",
       "      <th>category</th>\n",
       "    </tr>\n",
       "  </thead>\n",
       "  <tbody>\n",
       "    <tr>\n",
       "      <th>0</th>\n",
       "      <td>Typescript Engineer</td>\n",
       "      <td>wander.com</td>\n",
       "      <td></td>\n",
       "      <td>2025-05-26 01:29:59+00:00</td>\n",
       "      <td>dev</td>\n",
       "    </tr>\n",
       "    <tr>\n",
       "      <th>1</th>\n",
       "      <td>Lead Data Engineer</td>\n",
       "      <td>Open Architects</td>\n",
       "      <td></td>\n",
       "      <td>2025-06-02 22:32:54+00:00</td>\n",
       "      <td>dev</td>\n",
       "    </tr>\n",
       "    <tr>\n",
       "      <th>2</th>\n",
       "      <td>Senior Fullstack Software Engineer</td>\n",
       "      <td>Blotato</td>\n",
       "      <td></td>\n",
       "      <td>2025-05-10 01:38:55+00:00</td>\n",
       "      <td>dev</td>\n",
       "    </tr>\n",
       "    <tr>\n",
       "      <th>3</th>\n",
       "      <td>Tech Cofounder CTO</td>\n",
       "      <td>Founders Factory</td>\n",
       "      <td></td>\n",
       "      <td>2025-05-29 11:44:49+00:00</td>\n",
       "      <td>dev</td>\n",
       "    </tr>\n",
       "    <tr>\n",
       "      <th>4</th>\n",
       "      <td>Senior Backend Engineer</td>\n",
       "      <td>HockeyStack</td>\n",
       "      <td></td>\n",
       "      <td>2025-05-27 21:55:03+00:00</td>\n",
       "      <td>dev</td>\n",
       "    </tr>\n",
       "  </tbody>\n",
       "</table>\n",
       "</div>"
      ],
      "text/plain": [
       "                                title           company tags  \\\n",
       "0                 Typescript Engineer        wander.com        \n",
       "1                  Lead Data Engineer   Open Architects        \n",
       "2  Senior Fullstack Software Engineer           Blotato        \n",
       "3                  Tech Cofounder CTO  Founders Factory        \n",
       "4             Senior Backend Engineer       HockeyStack        \n",
       "\n",
       "                date_posted category  \n",
       "0 2025-05-26 01:29:59+00:00      dev  \n",
       "1 2025-06-02 22:32:54+00:00      dev  \n",
       "2 2025-05-10 01:38:55+00:00      dev  \n",
       "3 2025-05-29 11:44:49+00:00      dev  \n",
       "4 2025-05-27 21:55:03+00:00      dev  "
      ]
     },
     "execution_count": 28,
     "metadata": {},
     "output_type": "execute_result"
    }
   ],
   "source": [
    "all_jobs.head()"
   ]
  },
  {
   "cell_type": "code",
   "execution_count": 29,
   "id": "3d7396dc",
   "metadata": {},
   "outputs": [],
   "source": [
    "df = all_jobs.drop_duplicates()"
   ]
  },
  {
   "cell_type": "code",
   "execution_count": 30,
   "id": "b54ebbf8",
   "metadata": {},
   "outputs": [
    {
     "name": "stdout",
     "output_type": "stream",
     "text": [
      "title          0\n",
      "company        0\n",
      "tags           0\n",
      "date_posted    0\n",
      "category       0\n",
      "dtype: int64\n"
     ]
    }
   ],
   "source": [
    "print(df.isnull().sum())"
   ]
  },
  {
   "cell_type": "code",
   "execution_count": 31,
   "id": "3d551cb3",
   "metadata": {},
   "outputs": [
    {
     "name": "stdout",
     "output_type": "stream",
     "text": [
      "dev          20\n",
      "design       20\n",
      "data         20\n",
      "marketing    20\n",
      "sales        20\n",
      "Name: category, dtype: int64\n"
     ]
    }
   ],
   "source": [
    "print(df['category'].value_counts())"
   ]
  },
  {
   "cell_type": "markdown",
   "id": "27974905",
   "metadata": {},
   "source": [
    "**3. Database Management**\n",
    "\n",
    "- Database: SQLite for local storage and analysis\n",
    "- Data Integrity: Implemented proper indexing and constraints\n",
    "- Query Optimization: Used SQL for efficient data aggregation"
   ]
  },
  {
   "cell_type": "code",
   "execution_count": 33,
   "id": "f7d56b1f",
   "metadata": {},
   "outputs": [],
   "source": [
    "conn = sqlite3.connect(\"remote_jobs.db\")"
   ]
  },
  {
   "cell_type": "code",
   "execution_count": 34,
   "id": "977ae078",
   "metadata": {},
   "outputs": [
    {
     "data": {
      "text/plain": [
       "100"
      ]
     },
     "execution_count": 34,
     "metadata": {},
     "output_type": "execute_result"
    }
   ],
   "source": [
    "df.to_sql(\"job_postings\", conn, if_exists=\"replace\", index=False)"
   ]
  },
  {
   "cell_type": "markdown",
   "id": "5d9bd486",
   "metadata": {},
   "source": [
    "**4. Exploratory Data Analysis**"
   ]
  },
  {
   "cell_type": "code",
   "execution_count": 35,
   "id": "5cae18d9",
   "metadata": {},
   "outputs": [
    {
     "data": {
      "text/html": [
       "<div>\n",
       "<style scoped>\n",
       "    .dataframe tbody tr th:only-of-type {\n",
       "        vertical-align: middle;\n",
       "    }\n",
       "\n",
       "    .dataframe tbody tr th {\n",
       "        vertical-align: top;\n",
       "    }\n",
       "\n",
       "    .dataframe thead th {\n",
       "        text-align: right;\n",
       "    }\n",
       "</style>\n",
       "<table border=\"1\" class=\"dataframe\">\n",
       "  <thead>\n",
       "    <tr style=\"text-align: right;\">\n",
       "      <th></th>\n",
       "      <th>COUNT(*)</th>\n",
       "    </tr>\n",
       "  </thead>\n",
       "  <tbody>\n",
       "    <tr>\n",
       "      <th>0</th>\n",
       "      <td>100</td>\n",
       "    </tr>\n",
       "  </tbody>\n",
       "</table>\n",
       "</div>"
      ],
      "text/plain": [
       "   COUNT(*)\n",
       "0       100"
      ]
     },
     "execution_count": 35,
     "metadata": {},
     "output_type": "execute_result"
    }
   ],
   "source": [
    "pd.read_sql_query(\"SELECT COUNT(*) FROM job_postings\", conn)"
   ]
  },
  {
   "cell_type": "code",
   "execution_count": 58,
   "id": "63d82550",
   "metadata": {
    "scrolled": true
   },
   "outputs": [
    {
     "data": {
      "text/html": [
       "<div>\n",
       "<style scoped>\n",
       "    .dataframe tbody tr th:only-of-type {\n",
       "        vertical-align: middle;\n",
       "    }\n",
       "\n",
       "    .dataframe tbody tr th {\n",
       "        vertical-align: top;\n",
       "    }\n",
       "\n",
       "    .dataframe thead th {\n",
       "        text-align: right;\n",
       "    }\n",
       "</style>\n",
       "<table border=\"1\" class=\"dataframe\">\n",
       "  <thead>\n",
       "    <tr style=\"text-align: right;\">\n",
       "      <th></th>\n",
       "      <th>title</th>\n",
       "      <th>company</th>\n",
       "      <th>date_posted</th>\n",
       "      <th>category</th>\n",
       "    </tr>\n",
       "  </thead>\n",
       "  <tbody>\n",
       "    <tr>\n",
       "      <th>0</th>\n",
       "      <td>Typescript Engineer</td>\n",
       "      <td>wander.com</td>\n",
       "      <td>2025-05-26 01:29:59+00:00</td>\n",
       "      <td>dev</td>\n",
       "    </tr>\n",
       "    <tr>\n",
       "      <th>1</th>\n",
       "      <td>Lead Data Engineer</td>\n",
       "      <td>Open Architects</td>\n",
       "      <td>2025-06-02 22:32:54+00:00</td>\n",
       "      <td>dev</td>\n",
       "    </tr>\n",
       "    <tr>\n",
       "      <th>2</th>\n",
       "      <td>Senior Fullstack Software Engineer</td>\n",
       "      <td>Blotato</td>\n",
       "      <td>2025-05-10 01:38:55+00:00</td>\n",
       "      <td>dev</td>\n",
       "    </tr>\n",
       "    <tr>\n",
       "      <th>3</th>\n",
       "      <td>Tech Cofounder CTO</td>\n",
       "      <td>Founders Factory</td>\n",
       "      <td>2025-05-29 11:44:49+00:00</td>\n",
       "      <td>dev</td>\n",
       "    </tr>\n",
       "    <tr>\n",
       "      <th>4</th>\n",
       "      <td>Senior Backend Engineer</td>\n",
       "      <td>HockeyStack</td>\n",
       "      <td>2025-05-27 21:55:03+00:00</td>\n",
       "      <td>dev</td>\n",
       "    </tr>\n",
       "    <tr>\n",
       "      <th>...</th>\n",
       "      <td>...</td>\n",
       "      <td>...</td>\n",
       "      <td>...</td>\n",
       "      <td>...</td>\n",
       "    </tr>\n",
       "    <tr>\n",
       "      <th>95</th>\n",
       "      <td>Javascript Fullstack Engineer Senior</td>\n",
       "      <td>Lumenalta</td>\n",
       "      <td>2025-05-09 00:00:11+00:00</td>\n",
       "      <td>sales</td>\n",
       "    </tr>\n",
       "    <tr>\n",
       "      <th>96</th>\n",
       "      <td>Administrative Executive</td>\n",
       "      <td>Prime Design &amp; Build</td>\n",
       "      <td>2025-04-19 14:29:22+00:00</td>\n",
       "      <td>sales</td>\n",
       "    </tr>\n",
       "    <tr>\n",
       "      <th>97</th>\n",
       "      <td>Senior Software Engineer</td>\n",
       "      <td>Emergent Software</td>\n",
       "      <td>2025-04-12 16:01:56+00:00</td>\n",
       "      <td>sales</td>\n",
       "    </tr>\n",
       "    <tr>\n",
       "      <th>98</th>\n",
       "      <td>Full Stack Developer</td>\n",
       "      <td>Incyte Studios</td>\n",
       "      <td>2025-04-06 00:00:05+00:00</td>\n",
       "      <td>sales</td>\n",
       "    </tr>\n",
       "    <tr>\n",
       "      <th>99</th>\n",
       "      <td>Senior PHP Laravel Developer Full Stack</td>\n",
       "      <td>Interaction Design Foundation</td>\n",
       "      <td>2025-03-23 00:00:08+00:00</td>\n",
       "      <td>sales</td>\n",
       "    </tr>\n",
       "  </tbody>\n",
       "</table>\n",
       "<p>100 rows × 4 columns</p>\n",
       "</div>"
      ],
      "text/plain": [
       "                                      title                        company  \\\n",
       "0                       Typescript Engineer                     wander.com   \n",
       "1                        Lead Data Engineer                Open Architects   \n",
       "2        Senior Fullstack Software Engineer                        Blotato   \n",
       "3                        Tech Cofounder CTO               Founders Factory   \n",
       "4                   Senior Backend Engineer                    HockeyStack   \n",
       "..                                      ...                            ...   \n",
       "95     Javascript Fullstack Engineer Senior                      Lumenalta   \n",
       "96                 Administrative Executive           Prime Design & Build   \n",
       "97                 Senior Software Engineer              Emergent Software   \n",
       "98                     Full Stack Developer                 Incyte Studios   \n",
       "99  Senior PHP Laravel Developer Full Stack  Interaction Design Foundation   \n",
       "\n",
       "                  date_posted category  \n",
       "0   2025-05-26 01:29:59+00:00      dev  \n",
       "1   2025-06-02 22:32:54+00:00      dev  \n",
       "2   2025-05-10 01:38:55+00:00      dev  \n",
       "3   2025-05-29 11:44:49+00:00      dev  \n",
       "4   2025-05-27 21:55:03+00:00      dev  \n",
       "..                        ...      ...  \n",
       "95  2025-05-09 00:00:11+00:00    sales  \n",
       "96  2025-04-19 14:29:22+00:00    sales  \n",
       "97  2025-04-12 16:01:56+00:00    sales  \n",
       "98  2025-04-06 00:00:05+00:00    sales  \n",
       "99  2025-03-23 00:00:08+00:00    sales  \n",
       "\n",
       "[100 rows x 4 columns]"
      ]
     },
     "execution_count": 58,
     "metadata": {},
     "output_type": "execute_result"
    }
   ],
   "source": [
    "pd.read_sql_query(\"SELECT * FROM job_postings\", conn)"
   ]
  },
  {
   "cell_type": "code",
   "execution_count": 41,
   "id": "aaf8d461",
   "metadata": {},
   "outputs": [],
   "source": [
    "df.drop(columns=['tags'], inplace=True)"
   ]
  },
  {
   "cell_type": "code",
   "execution_count": 42,
   "id": "ec8ea834",
   "metadata": {},
   "outputs": [
    {
     "data": {
      "text/html": [
       "<div>\n",
       "<style scoped>\n",
       "    .dataframe tbody tr th:only-of-type {\n",
       "        vertical-align: middle;\n",
       "    }\n",
       "\n",
       "    .dataframe tbody tr th {\n",
       "        vertical-align: top;\n",
       "    }\n",
       "\n",
       "    .dataframe thead th {\n",
       "        text-align: right;\n",
       "    }\n",
       "</style>\n",
       "<table border=\"1\" class=\"dataframe\">\n",
       "  <thead>\n",
       "    <tr style=\"text-align: right;\">\n",
       "      <th></th>\n",
       "      <th>title</th>\n",
       "      <th>company</th>\n",
       "      <th>date_posted</th>\n",
       "      <th>category</th>\n",
       "    </tr>\n",
       "  </thead>\n",
       "  <tbody>\n",
       "    <tr>\n",
       "      <th>0</th>\n",
       "      <td>Typescript Engineer</td>\n",
       "      <td>wander.com</td>\n",
       "      <td>2025-05-26 01:29:59+00:00</td>\n",
       "      <td>dev</td>\n",
       "    </tr>\n",
       "    <tr>\n",
       "      <th>1</th>\n",
       "      <td>Lead Data Engineer</td>\n",
       "      <td>Open Architects</td>\n",
       "      <td>2025-06-02 22:32:54+00:00</td>\n",
       "      <td>dev</td>\n",
       "    </tr>\n",
       "    <tr>\n",
       "      <th>2</th>\n",
       "      <td>Senior Fullstack Software Engineer</td>\n",
       "      <td>Blotato</td>\n",
       "      <td>2025-05-10 01:38:55+00:00</td>\n",
       "      <td>dev</td>\n",
       "    </tr>\n",
       "    <tr>\n",
       "      <th>3</th>\n",
       "      <td>Tech Cofounder CTO</td>\n",
       "      <td>Founders Factory</td>\n",
       "      <td>2025-05-29 11:44:49+00:00</td>\n",
       "      <td>dev</td>\n",
       "    </tr>\n",
       "    <tr>\n",
       "      <th>4</th>\n",
       "      <td>Senior Backend Engineer</td>\n",
       "      <td>HockeyStack</td>\n",
       "      <td>2025-05-27 21:55:03+00:00</td>\n",
       "      <td>dev</td>\n",
       "    </tr>\n",
       "  </tbody>\n",
       "</table>\n",
       "</div>"
      ],
      "text/plain": [
       "                                title           company  \\\n",
       "0                 Typescript Engineer        wander.com   \n",
       "1                  Lead Data Engineer   Open Architects   \n",
       "2  Senior Fullstack Software Engineer           Blotato   \n",
       "3                  Tech Cofounder CTO  Founders Factory   \n",
       "4             Senior Backend Engineer       HockeyStack   \n",
       "\n",
       "                date_posted category  \n",
       "0 2025-05-26 01:29:59+00:00      dev  \n",
       "1 2025-06-02 22:32:54+00:00      dev  \n",
       "2 2025-05-10 01:38:55+00:00      dev  \n",
       "3 2025-05-29 11:44:49+00:00      dev  \n",
       "4 2025-05-27 21:55:03+00:00      dev  "
      ]
     },
     "execution_count": 42,
     "metadata": {},
     "output_type": "execute_result"
    }
   ],
   "source": [
    "df.head()"
   ]
  },
  {
   "cell_type": "code",
   "execution_count": 43,
   "id": "d1d2df39",
   "metadata": {},
   "outputs": [
    {
     "data": {
      "text/plain": [
       "Index(['title', 'company', 'date_posted', 'category'], dtype='object')"
      ]
     },
     "execution_count": 43,
     "metadata": {},
     "output_type": "execute_result"
    }
   ],
   "source": [
    "df.columns"
   ]
  },
  {
   "cell_type": "code",
   "execution_count": 44,
   "id": "e0e28673",
   "metadata": {},
   "outputs": [
    {
     "data": {
      "text/plain": [
       "100"
      ]
     },
     "execution_count": 44,
     "metadata": {},
     "output_type": "execute_result"
    }
   ],
   "source": [
    "df.to_sql(\"job_postings\", conn, if_exists=\"replace\", index=False)\n"
   ]
  },
  {
   "cell_type": "code",
   "execution_count": 46,
   "id": "71f10a08",
   "metadata": {},
   "outputs": [
    {
     "data": {
      "text/html": [
       "<div>\n",
       "<style scoped>\n",
       "    .dataframe tbody tr th:only-of-type {\n",
       "        vertical-align: middle;\n",
       "    }\n",
       "\n",
       "    .dataframe tbody tr th {\n",
       "        vertical-align: top;\n",
       "    }\n",
       "\n",
       "    .dataframe thead th {\n",
       "        text-align: right;\n",
       "    }\n",
       "</style>\n",
       "<table border=\"1\" class=\"dataframe\">\n",
       "  <thead>\n",
       "    <tr style=\"text-align: right;\">\n",
       "      <th></th>\n",
       "      <th>company</th>\n",
       "      <th>total_postings</th>\n",
       "    </tr>\n",
       "  </thead>\n",
       "  <tbody>\n",
       "    <tr>\n",
       "      <th>0</th>\n",
       "      <td>wander.com</td>\n",
       "      <td>5</td>\n",
       "    </tr>\n",
       "    <tr>\n",
       "      <th>1</th>\n",
       "      <td>Zammad</td>\n",
       "      <td>5</td>\n",
       "    </tr>\n",
       "    <tr>\n",
       "      <th>2</th>\n",
       "      <td>Sanctuary Computer</td>\n",
       "      <td>5</td>\n",
       "    </tr>\n",
       "    <tr>\n",
       "      <th>3</th>\n",
       "      <td>Ringbook</td>\n",
       "      <td>5</td>\n",
       "    </tr>\n",
       "    <tr>\n",
       "      <th>4</th>\n",
       "      <td>Prime Design &amp; Build</td>\n",
       "      <td>5</td>\n",
       "    </tr>\n",
       "    <tr>\n",
       "      <th>5</th>\n",
       "      <td>Payara</td>\n",
       "      <td>5</td>\n",
       "    </tr>\n",
       "    <tr>\n",
       "      <th>6</th>\n",
       "      <td>Open Architects</td>\n",
       "      <td>5</td>\n",
       "    </tr>\n",
       "    <tr>\n",
       "      <th>7</th>\n",
       "      <td>Nami ML</td>\n",
       "      <td>5</td>\n",
       "    </tr>\n",
       "    <tr>\n",
       "      <th>8</th>\n",
       "      <td>Lumenalta</td>\n",
       "      <td>5</td>\n",
       "    </tr>\n",
       "    <tr>\n",
       "      <th>9</th>\n",
       "      <td>Lemon.io</td>\n",
       "      <td>5</td>\n",
       "    </tr>\n",
       "  </tbody>\n",
       "</table>\n",
       "</div>"
      ],
      "text/plain": [
       "                company  total_postings\n",
       "0            wander.com               5\n",
       "1                Zammad               5\n",
       "2    Sanctuary Computer               5\n",
       "3              Ringbook               5\n",
       "4  Prime Design & Build               5\n",
       "5                Payara               5\n",
       "6       Open Architects               5\n",
       "7               Nami ML               5\n",
       "8             Lumenalta               5\n",
       "9              Lemon.io               5"
      ]
     },
     "execution_count": 46,
     "metadata": {},
     "output_type": "execute_result"
    }
   ],
   "source": [
    "pd.read_sql_query(\"\"\"\n",
    "SELECT\n",
    "    company,\n",
    "    COUNT(*) AS total_postings\n",
    "FROM job_postings\n",
    "GROUP BY company\n",
    "ORDER BY total_postings DESC\n",
    "LIMIT 10\n",
    "\"\"\", conn)"
   ]
  },
  {
   "cell_type": "markdown",
   "id": "6b40bae6",
   "metadata": {},
   "source": [
    "**Temporal Trends:**\n",
    "\n",
    "Peak Activity: May 2025 showed highest job posting volume (75 postings)\n",
    "Seasonal Pattern: Clear monthly variation in job posting frequency\n",
    "Recent Activity: June 2025 data shows declining trend (5 postings)"
   ]
  },
  {
   "cell_type": "code",
   "execution_count": 47,
   "id": "81d0b539",
   "metadata": {},
   "outputs": [
    {
     "data": {
      "text/html": [
       "<div>\n",
       "<style scoped>\n",
       "    .dataframe tbody tr th:only-of-type {\n",
       "        vertical-align: middle;\n",
       "    }\n",
       "\n",
       "    .dataframe tbody tr th {\n",
       "        vertical-align: top;\n",
       "    }\n",
       "\n",
       "    .dataframe thead th {\n",
       "        text-align: right;\n",
       "    }\n",
       "</style>\n",
       "<table border=\"1\" class=\"dataframe\">\n",
       "  <thead>\n",
       "    <tr style=\"text-align: right;\">\n",
       "      <th></th>\n",
       "      <th>month</th>\n",
       "      <th>job_count</th>\n",
       "    </tr>\n",
       "  </thead>\n",
       "  <tbody>\n",
       "    <tr>\n",
       "      <th>0</th>\n",
       "      <td>2025-03</td>\n",
       "      <td>5</td>\n",
       "    </tr>\n",
       "    <tr>\n",
       "      <th>1</th>\n",
       "      <td>2025-04</td>\n",
       "      <td>15</td>\n",
       "    </tr>\n",
       "    <tr>\n",
       "      <th>2</th>\n",
       "      <td>2025-05</td>\n",
       "      <td>75</td>\n",
       "    </tr>\n",
       "    <tr>\n",
       "      <th>3</th>\n",
       "      <td>2025-06</td>\n",
       "      <td>5</td>\n",
       "    </tr>\n",
       "  </tbody>\n",
       "</table>\n",
       "</div>"
      ],
      "text/plain": [
       "     month  job_count\n",
       "0  2025-03          5\n",
       "1  2025-04         15\n",
       "2  2025-05         75\n",
       "3  2025-06          5"
      ]
     },
     "execution_count": 47,
     "metadata": {},
     "output_type": "execute_result"
    }
   ],
   "source": [
    "pd.read_sql_query(\"\"\"\n",
    "SELECT \n",
    "    strftime('%Y-%m', date_posted) AS month,\n",
    "    COUNT(*) AS job_count\n",
    "FROM job_postings\n",
    "GROUP BY month\n",
    "ORDER BY month\n",
    "\"\"\", conn)"
   ]
  },
  {
   "cell_type": "code",
   "execution_count": 52,
   "id": "37e359c4",
   "metadata": {},
   "outputs": [],
   "source": [
    "df['date_posted'] = pd.to_datetime(df['date_posted']).dt.tz_localize(None)"
   ]
  },
  {
   "cell_type": "markdown",
   "id": "de16d49c",
   "metadata": {},
   "source": [
    "### Data Visualization"
   ]
  },
  {
   "cell_type": "markdown",
   "id": "04900eb1",
   "metadata": {},
   "source": [
    "**Time Series Analysis:** Monthly job posting trends"
   ]
  },
  {
   "cell_type": "markdown",
   "id": "e6dbd797",
   "metadata": {},
   "source": [
    "Tools Used: Matplotlib and Seaborn for professional visualizations"
   ]
  },
  {
   "cell_type": "code",
   "execution_count": 53,
   "id": "c4c9c12e",
   "metadata": {},
   "outputs": [
    {
     "data": {
      "image/png": "[encoded data removed]",
      "text/plain": [
       "<Figure size 1000x500 with 1 Axes>"
      ]
     },
     "metadata": {},
     "output_type": "display_data"
    }
   ],
   "source": [
    "# Group by month\n",
    "df['month'] = df['date_posted'].dt.to_period('M').astype(str)\n",
    "monthly_counts = df.groupby('month').size().reset_index(name='job_count')\n",
    "\n",
    "# Plot\n",
    "plt.figure(figsize=(10, 5))\n",
    "sns.lineplot(data=monthly_counts, x='month', y='job_count', marker='o')\n",
    "plt.xticks(rotation=45)\n",
    "plt.title(\"Monthly Job Postings Trend\")\n",
    "plt.xlabel(\"Month\")\n",
    "plt.ylabel(\"Number of Postings\")\n",
    "plt.tight_layout()\n",
    "plt.show()\n"
   ]
  },
  {
   "cell_type": "markdown",
   "id": "1924954d",
   "metadata": {},
   "source": [
    "**Comparative Analysis:** Top companies by posting volume"
   ]
  },
  {
   "cell_type": "code",
   "execution_count": 54,
   "id": "49a11ebe",
   "metadata": {},
   "outputs": [
    {
     "data": {
      "image/png": "[encoded data removed]",
      "text/plain": [
       "<Figure size 800x400 with 1 Axes>"
      ]
     },
     "metadata": {},
     "output_type": "display_data"
    }
   ],
   "source": [
    "top_companies = df['company'].value_counts().head(10)\n",
    "\n",
    "plt.figure(figsize=(8, 4))\n",
    "sns.barplot(x=top_companies.values, y=top_companies.index, palette=\"viridis\")\n",
    "plt.title(\"Top 10 Companies by Job Postings\")\n",
    "plt.xlabel(\"Number of Postings\")\n",
    "plt.ylabel(\"Company\")\n",
    "plt.tight_layout()\n",
    "plt.show()\n"
   ]
  },
  {
   "cell_type": "markdown",
   "id": "d3f1e6b8",
   "metadata": {},
   "source": [
    "### What This Analysis Actually Reveals\n",
    "**Market Intelligence:**\n",
    "\n",
    "- Remote job market has seasonal patterns (not random)\n",
    "- May is peak hiring season for remote positions\n",
    "- Market is equally distributed across skill types"
   ]
  },
  {
   "cell_type": "code",
   "execution_count": null,
   "id": "93efe7bd",
   "metadata": {},
   "outputs": [],
   "source": []
  }
 ],
 "metadata": {
  "kernelspec": {
   "display_name": "Python 3 (ipykernel)",
   "language": "python",
   "name": "python3"
  },
  "language_info": {
   "codemirror_mode": {
    "name": "ipython",
    "version": 3
   },
   "file_extension": ".py",
   "mimetype": "text/x-python",
   "name": "python",
   "nbconvert_exporter": "python",
   "pygments_lexer": "ipython3",
   "version": "3.11.3"
  }
 },
 "nbformat": 4,
 "nbformat_minor": 5
}
